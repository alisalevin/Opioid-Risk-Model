{
 "cells": [
  {
   "cell_type": "code",
   "execution_count": 1,
   "metadata": {
    "collapsed": false
   },
   "outputs": [
   ],
   "source": [
    "# Library Imports\n",
    "import pandas as pd\n",
    "import numpy as np\n",
    "import matplotlib.pyplot as plt\n",
    "from pandas.plotting import scatter_matrix"
   ]
  },
  {
   "cell_type": "code",
   "execution_count": 4,
   "metadata": {
    "collapsed": false
   },
   "outputs": [
   ],
   "source": [
    "# 2012-2016\n",
    "social = pd.read_csv('social_factors.csv')"
   ]
  },
  {
   "cell_type": "code",
   "execution_count": 9,
   "metadata": {
    "collapsed": false
   },
   "outputs": [
   ],
   "source": [
    "# Correlations\n",
    "corr_matrix = social.corr()"
   ]
  },
  {
   "cell_type": "code",
   "execution_count": 10,
   "metadata": {
    "collapsed": false
   },
   "outputs": [
   ],
   "source": [
    "# Standard correlation coeficcient between the county (1 for at-risk identified counties in 2016, 0 for all others) and every other attribute\n",
    "# Note, secondary at-risk counties were eliminated from the dataset so that they could be used for testing\n",
    "corr_matrix = corr_matrix[\"County\"].sort_values(ascending=False)"
   ]
  },
  {
   "cell_type": "code",
   "execution_count": 11,
   "metadata": {
    "collapsed": false
   },
   "outputs": [
    {
     "name": "stdout",
     "output_type": "stream",
     "text": [
      "County                                                                                                                                                                                   1.000000\n",
      "Estimate; GRANDPARENTS - Number of grandparents living with own grandchildren under 18 years - Years responsible for grandchildren - 3 or 4 years                                        0.565536\n",
      "Estimate; GRANDPARENTS - Number of grandparents responsible for own grandchildren under 18 years - Who are female                                                                        0.557442\n",
      "Estimate; GRANDPARENTS - Number of grandparents responsible for own grandchildren under 18 years                                                                                         0.550410\n",
      "Estimate; GRANDPARENTS - Number of grandparents living with own grandchildren under 18 years - Grandparents responsible for grandchildren                                                0.550410\n",
      "Percent; GRANDPARENTS - Number of grandparents responsible for own grandchildren under 18 years                                                                                          0.550410\n",
      "Estimate; GRANDPARENTS - Number of grandparents living with own grandchildren under 18 years - Years responsible for grandchildren - Less than 1 year                                    0.543613\n",
      "Estimate; GRANDPARENTS - Number of grandparents responsible for own grandchildren under 18 years - Who are married                                                                       0.540628\n",
      "Estimate; HOUSEHOLDS BY TYPE - Total households - Family households (families) - Female householder, no husband present, family                                                          0.537566\n",
      "Estimate; RELATIONSHIP - Population in households - Other relatives                                                                                                                      0.537248\n",
      "Estimate; MARITAL STATUS - Females 15 years and over - Separated                                                                                                                         0.537232\n",
      "Estimate; GRANDPARENTS - Number of grandparents living with own grandchildren under 18 years - Years responsible for grandchildren - 5 or more years                                     0.534943\n",
      "Estimate; HOUSEHOLDS BY TYPE - Total households - Family households (families) - Female householder, no husband present, family - With own children of the householder under 18 years    0.529460\n",
      "Estimate; EDUCATIONAL ATTAINMENT - Population 25 years and over - 9th to 12th grade, no diploma                                                                                          0.527788\n",
      "Estimate; GRANDPARENTS - Number of grandparents living with own grandchildren under 18 years - Years responsible for grandchildren - 1 or 2 years                                        0.525654\n",
      "Estimate; DISABILITY STATUS OF THE CIVILIAN NONINSTITUTIONALIZED POPULATION - 18 to 64 years - With a disability                                                                         0.524310\n",
      "Percent; GRANDPARENTS - Number of grandparents living with own grandchildren under 18 years                                                                                              0.520781\n",
      "Estimate; GRANDPARENTS - Number of grandparents living with own grandchildren under 18 years                                                                                             0.520781\n",
      "Estimate; MARITAL STATUS - Males 15 years and over - Separated                                                                                                                           0.518935\n",
      "Estimate; HOUSEHOLDS BY TYPE - Total households - Nonfamily households - Householder living alone                                                                                        0.512120\n",
      "Estimate; MARITAL STATUS - Females 15 years and over - Never married                                                                                                                     0.508309\n",
      "Estimate; DISABILITY STATUS OF THE CIVILIAN NONINSTITUTIONALIZED POPULATION - Total Civilian Noninstitutionalized Population - With a disability                                         0.507256\n",
      "Estimate; DISABILITY STATUS OF THE CIVILIAN NONINSTITUTIONALIZED POPULATION - Under 18 years - With a disability                                                                         0.505956\n",
      "Estimate; HOUSEHOLDS BY TYPE - Total households - Nonfamily households                                                                                                                   0.503894\n",
      "Estimate; EDUCATIONAL ATTAINMENT - Population 25 years and over - Less than 9th grade                                                                                                    0.497360\n",
      "Margin of Error; WORLD REGION OF BIRTH OF FOREIGN BORN - Foreign-born population, excluding population born at sea - Africa                                                              0.494272\n",
      "Estimate; HOUSEHOLDS BY TYPE - Total households - Family households (families) - Male householder, no wife present, family                                                               0.492498\n",
      "Estimate; MARITAL STATUS - Females 15 years and over - Divorced                                                                                                                          0.490077\n",
      "Estimate; MARITAL STATUS - Males 15 years and over - Never married                                                                                                                       0.489267\n",
      "Margin of Error; EDUCATIONAL ATTAINMENT - Population 25 years and over - 9th to 12th grade, no diploma                                                                                   0.488649\n",
      "Name: County, dtype: float64\n"
     ]
    }
   ],
   "source": [
    "# Top 30 Correlations\n",
    "print(corr_matrix.iloc[:30])"
   ]
  },
  {
   "cell_type": "code",
   "execution_count": 0,
   "metadata": {
    "collapsed": false
   },
   "outputs": [
   ],
   "source": [
   ]
  }
 ],
 "metadata": {
  "kernelspec": {
   "display_name": "Python 3 (system-wide)",
   "language": "python",
   "metadata": {
    "cocalc": {
     "description": "Python 3 programming language",
     "priority": 100,
     "url": "https://www.python.org/"
    }
   },
   "name": "python3"
  },
  "language_info": {
   "codemirror_mode": {
    "name": "ipython",
    "version": 3
   },
   "file_extension": ".py",
   "mimetype": "text/x-python",
   "name": "python",
   "nbconvert_exporter": "python",
   "pygments_lexer": "ipython3",
   "version": "3.6.9"
  }
 },
 "nbformat": 4,
 "nbformat_minor": 4
}